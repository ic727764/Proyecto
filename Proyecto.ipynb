{
 "cells": [
  {
   "cell_type": "markdown",
   "metadata": {},
   "source": [
    "# Proyecto 1\n",
    "#### Adrian Padilla\n",
    "#### Victor Vidal\n",
    "\n",
    "![WhatsApp%20Image%202020-09-05%20at%207.18.46%20PM%20%282%29.jpeg](attachment:WhatsApp%20Image%202020-09-05%20at%207.18.46%20PM%20%282%29.jpeg)"
   ]
  }
 ],
 "metadata": {
  "kernelspec": {
   "display_name": "Python 3",
   "language": "python",
   "name": "python3"
  },
  "language_info": {
   "codemirror_mode": {
    "name": "ipython",
    "version": 3
   },
   "file_extension": ".py",
   "mimetype": "text/x-python",
   "name": "python",
   "nbconvert_exporter": "python",
   "pygments_lexer": "ipython3",
   "version": "3.8.3"
  }
 },
 "nbformat": 4,
 "nbformat_minor": 4
}
